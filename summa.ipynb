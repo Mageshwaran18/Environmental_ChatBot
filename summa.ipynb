{
 "cells": [
  {
   "cell_type": "code",
   "execution_count": null,
   "metadata": {},
   "outputs": [],
   "source": [
    "import networkx as nx\n",
    "import random\n",
    "\n",
    "# Define the list of districts in Tamil Nadu\n",
    "districts = ['Madurai', 'Coimbatore', 'Tirupur', 'Erode', 'Chennai', 'KannyaKumari', 'Kumbakonam', 'Palani', 'Thanjavur']\n",
    "\n",
    "# Create a fully connected graph\n",
    "G = nx.complete_graph(districts)\n",
    "\n",
    "# Assign random weights to the edges\n",
    "for u, v in G.edges():\n",
    "    weight = random.randint(1, 10)  # Assigning random weights between 1 and 10\n",
    "    G[u][v]['weight'] = weight\n",
    "\n",
    "# Function to find shortest path and flow direction\n",
    "def find_shortest_path(current_location, destination):\n",
    "    try:\n",
    "        # Compute shortest path using Dijkstra's algorithm\n",
    "        shortest_path = nx.dijkstra_path(G, source=current_location, target=destination, weight='weight')\n",
    "        \n",
    "        # Compute shortest path length\n",
    "        shortest_path_length = nx.dijkstra_path_length(G, source=current_location, target=destination, weight='weight')\n",
    "        \n",
    "        # Create a list to store flow direction and weights\n",
    "        flow_direction = []\n",
    "        \n",
    "        # Iterate through nodes in the shortest path\n",
    "        for i in range(len(shortest_path) - 1):\n",
    "            u = shortest_path[i]\n",
    "            v = shortest_path[i + 1]\n",
    "            weight = G[u][v]['weight']\n",
    "            flow_direction.append((u, v, weight))\n",
    "        \n",
    "        return shortest_path, shortest_path_length, flow_direction\n",
    "    \n",
    "    except nx.NetworkXNoPath:\n",
    "        return None, None, None\n",
    "\n",
    "# Example usage\n",
    "current_location = 'Madurai'\n",
    "destination = 'Chennai'\n",
    "shortest_path, shortest_path_length, flow_direction = find_shortest_path(current_location, destination)\n",
    "\n",
    "if shortest_path:\n",
    "    print(f\"Shortest Path from {current_location} to {destination}: {shortest_path}\")\n",
    "    print(f\"Shortest Path Length: {shortest_path_length}\")\n",
    "    print(\"Flow Direction:\")\n",
    "    for edge in flow_direction:\n",
    "        print(f\"From {edge[0]} to {edge[1]} with weight {edge[2]}\")\n",
    "else:\n",
    "    print(f\"No path found from {current_location} to {destination}\")\n"
   ]
  }
 ],
 "metadata": {
  "kernelspec": {
   "display_name": "env",
   "language": "python",
   "name": "python3"
  },
  "language_info": {
   "codemirror_mode": {
    "name": "ipython",
    "version": 3
   },
   "file_extension": ".py",
   "mimetype": "text/x-python",
   "name": "python",
   "nbconvert_exporter": "python",
   "pygments_lexer": "ipython3",
   "version": "3.11.5"
  }
 },
 "nbformat": 4,
 "nbformat_minor": 2
}
